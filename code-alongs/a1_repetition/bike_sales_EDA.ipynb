{
 "cells": [
  {
   "cell_type": "markdown",
   "id": "fdc680fc",
   "metadata": {},
   "source": [
    "# Exporatory Data Analysis (EDA) on Bike Sales Dataset"
   ]
  },
  {
   "cell_type": "code",
   "execution_count": null,
   "id": "324e8b0e",
   "metadata": {},
   "outputs": [],
   "source": [
    "import pandas as pd\n",
    "df = pd.read_csv(\"../../data/Sales.csv\", index_col=0, parse_dates=True) # Load the dataset and parse dates\n",
    "df.head()  # Display the first few rows of the dataset"
   ]
  },
  {
   "cell_type": "code",
   "execution_count": null,
   "id": "ba4ca6c5",
   "metadata": {},
   "outputs": [],
   "source": [
    "df.loc[\"2013\"]"
   ]
  },
  {
   "cell_type": "markdown",
   "id": "cc0c103b",
   "metadata": {},
   "source": [
    "### Några saker att utforska\n",
    "- explorera jämförande tal\n",
    "- kategorier, subkategorier\n",
    "- länder\n",
    "- länder - profit\n",
    "- tid på året\n",
    "- graf på åren\n",
    "- gruppera efter gender\n",
    "- gruppera efter ålder\n",
    "- produktkategori per år"
   ]
  },
  {
   "cell_type": "code",
   "execution_count": null,
   "id": "d569e591",
   "metadata": {},
   "outputs": [],
   "source": [
    "df.columns # List all columns in the dataset"
   ]
  },
  {
   "cell_type": "code",
   "execution_count": null,
   "id": "0cd8e630",
   "metadata": {},
   "outputs": [],
   "source": [
    "df.info()  # Get a concise summary of the DataFrame"
   ]
  },
  {
   "cell_type": "code",
   "execution_count": null,
   "id": "4efca568",
   "metadata": {},
   "outputs": [],
   "source": [
    "df.shape  # Display the shape of the dataset"
   ]
  },
  {
   "cell_type": "code",
   "execution_count": null,
   "id": "66b11d3f",
   "metadata": {},
   "outputs": [],
   "source": [
    "df['Product_Category'].value_counts()"
   ]
  },
  {
   "cell_type": "code",
   "execution_count": null,
   "id": "53787437",
   "metadata": {},
   "outputs": [],
   "source": [
    "df['Country'].value_counts()  # Count the occurrences of each country in the dataset"
   ]
  },
  {
   "cell_type": "code",
   "execution_count": null,
   "id": "7aed3c6c",
   "metadata": {},
   "outputs": [],
   "source": [
    "df[\"Age_Group\"].value_counts()  # Count the occurrences of each age group in the dataset"
   ]
  },
  {
   "cell_type": "code",
   "execution_count": null,
   "id": "cf53ade4",
   "metadata": {},
   "outputs": [],
   "source": [
    "df.describe()"
   ]
  },
  {
   "cell_type": "code",
   "execution_count": null,
   "id": "085e0702",
   "metadata": {},
   "outputs": [],
   "source": [
    "df.describe().T.drop(\"count\", axis=1) # Display descriptive statistics for numerical columns, excluding the count"
   ]
  },
  {
   "cell_type": "code",
   "execution_count": null,
   "id": "34cf7cf3",
   "metadata": {},
   "outputs": [],
   "source": [
    "df.isnull().sum()  # Check for missing values in the dataset"
   ]
  },
  {
   "cell_type": "code",
   "execution_count": null,
   "id": "54a40e9e",
   "metadata": {},
   "outputs": [],
   "source": [
    "df_location = df[df['Country'] == 'Germany']\n",
    "df_location = df_location.groupby([\"Customer_Gender\", \"Age_Group\"])[\"Profit\"].sum().sort_values(ascending=False)\n",
    "df_location  "
   ]
  },
  {
   "cell_type": "markdown",
   "id": "3ccccd69",
   "metadata": {},
   "source": [
    "- explorera jämförande tal\n",
    "- kategorier, subkategorier\n",
    "- länder - profit\n",
    "- tid på året\n",
    "- graf på åren\n",
    "- gruppera efter gender\n",
    "- gruppera efter ålder\n",
    "- produktkategori per år"
   ]
  },
  {
   "cell_type": "markdown",
   "id": "137a5452",
   "metadata": {},
   "source": [
    "### Länder och profit\n"
   ]
  },
  {
   "cell_type": "code",
   "execution_count": null,
   "id": "28f574d0",
   "metadata": {},
   "outputs": [],
   "source": [
    "df[[\"Country\", \"Profit\"]].groupby([\"Country\"]).mean(numeric_only=True).sort_values(\n",
    "    by=\"Profit\", ascending=False\n",
    ").reset_index()\n"
   ]
  },
  {
   "cell_type": "code",
   "execution_count": null,
   "id": "d9ceac19",
   "metadata": {},
   "outputs": [],
   "source": [
    "df[[\"Country\", \"Profit\"]].groupby([\"Country\"]).sum(numeric_only=True).sort_values(\n",
    "    by=\"Profit\", ascending=False\n",
    ").reset_index()"
   ]
  },
  {
   "cell_type": "code",
   "execution_count": null,
   "id": "8cd4c719",
   "metadata": {},
   "outputs": [],
   "source": [
    "import duckdb\n",
    "\n",
    "df_profit = duckdb.query(\n",
    "    \"\"\"\n",
    "    SELECT \n",
    "        country,\n",
    "        SUM(profit) AS Total_profit,\n",
    "        MEAN(profit) AS Avg_profit,\n",
    "        MEDIAN(profit) AS Median_profit,\n",
    "    FROM df\n",
    "    GROUP BY\n",
    "        country\n",
    "    ORDER BY\n",
    "        total_profit DESC,\n",
    "        avg_profit DESC\n",
    "\"\"\"\n",
    ").df()\n",
    "\n",
    "df_profit"
   ]
  },
  {
   "cell_type": "code",
   "execution_count": null,
   "id": "6e2dbd8d",
   "metadata": {},
   "outputs": [],
   "source": [
    "import matplotlib.pyplot as plt \n",
    "\n",
    "fig, ax = plt.subplots(1, figsize = (12,6), dpi = 150)\n",
    "\n",
    "ax.bar(x=df_profit[\"Country\"], height=df_profit[\"Total_profit\"])\n",
    "ax.set(xlabel = \"Country\", ylabel=\"Total profit\", title = \"Total profit per country\")\n",
    "fig.savefig(\"profit_per_country.png\")"
   ]
  }
 ],
 "metadata": {
  "kernelspec": {
   "display_name": "ai_engineering_stefan_lundberg (3.13.2)",
   "language": "python",
   "name": "python3"
  },
  "language_info": {
   "codemirror_mode": {
    "name": "ipython",
    "version": 3
   },
   "file_extension": ".py",
   "mimetype": "text/x-python",
   "name": "python",
   "nbconvert_exporter": "python",
   "pygments_lexer": "ipython3",
   "version": "3.13.2"
  }
 },
 "nbformat": 4,
 "nbformat_minor": 5
}
