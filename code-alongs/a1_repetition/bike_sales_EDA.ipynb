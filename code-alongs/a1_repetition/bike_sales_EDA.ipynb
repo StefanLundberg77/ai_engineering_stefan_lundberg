{
 "cells": [
  {
   "cell_type": "markdown",
   "id": "fdc680fc",
   "metadata": {},
   "source": [
    "# Exporatory Data Analysis (EDA) on Bike Sales Dataset"
   ]
  },
  {
   "cell_type": "code",
   "execution_count": null,
   "id": "324e8b0e",
   "metadata": {},
   "outputs": [],
   "source": [
    "import pandas as pd\n",
    "df = pd.read_csv(\"../../data/Sales.csv\", index_col=0, parse_dates=True) # Load the dataset and parse dates\n",
    "df.head()  # Display the first few rows of the dataset"
   ]
  },
  {
   "cell_type": "code",
   "execution_count": null,
   "id": "ba4ca6c5",
   "metadata": {},
   "outputs": [],
   "source": [
    "df.loc[\"2013\"]"
   ]
  },
  {
   "cell_type": "markdown",
   "id": "cc0c103b",
   "metadata": {},
   "source": [
    "### Några saker att utforska\n",
    "- explorera jämförande tal\n",
    "- kategorier, subkategorier\n",
    "- länder\n",
    "- länder - profit\n",
    "- tid på året\n",
    "- graf på åren\n",
    "- gruppera efter gender\n",
    "- gruppera efter ålder\n",
    "- produktkategori per år"
   ]
  },
  {
   "cell_type": "code",
   "execution_count": null,
   "id": "d569e591",
   "metadata": {},
   "outputs": [],
   "source": [
    "df.columns # List all columns in the dataset"
   ]
  },
  {
   "cell_type": "code",
   "execution_count": null,
   "id": "0cd8e630",
   "metadata": {},
   "outputs": [],
   "source": [
    "df.info()  # Get a concise summary of the DataFrame"
   ]
  },
  {
   "cell_type": "code",
   "execution_count": null,
   "id": "4efca568",
   "metadata": {},
   "outputs": [],
   "source": [
    "df.shape  # Display the shape of the dataset"
   ]
  },
  {
   "cell_type": "code",
   "execution_count": null,
   "id": "66b11d3f",
   "metadata": {},
   "outputs": [],
   "source": [
    "df['Product_Category'].value_counts()"
   ]
  },
  {
   "cell_type": "code",
   "execution_count": null,
   "id": "53787437",
   "metadata": {},
   "outputs": [],
   "source": [
    "df['Country'].value_counts()  # Count the occurrences of each country in the dataset"
   ]
  },
  {
   "cell_type": "code",
   "execution_count": null,
   "id": "7aed3c6c",
   "metadata": {},
   "outputs": [],
   "source": [
    "df[\"Age_Group\"].value_counts()  # Count the occurrences of each age group in the dataset"
   ]
  },
  {
   "cell_type": "code",
   "execution_count": null,
   "id": "cf53ade4",
   "metadata": {},
   "outputs": [],
   "source": [
    "df.describe()"
   ]
  },
  {
   "cell_type": "code",
   "execution_count": null,
   "id": "085e0702",
   "metadata": {},
   "outputs": [],
   "source": [
    "df.describe().T.drop(\"count\", axis=1) # Display descriptive statistics for numerical columns, excluding the count"
   ]
  },
  {
   "cell_type": "code",
   "execution_count": null,
   "id": "34cf7cf3",
   "metadata": {},
   "outputs": [],
   "source": [
    "df.isnull().sum()  # Check for missing values in the dataset"
   ]
  },
  {
   "cell_type": "code",
   "execution_count": null,
   "id": "54a40e9e",
   "metadata": {},
   "outputs": [],
   "source": [
    "df_location = df[df['Country'] == 'Germany']\n",
    "df_location = df_location.groupby([\"Customer_Gender\", \"Age_Group\"])[\"Profit\"].sum().sort_values(ascending=False)\n",
    "df_location  "
   ]
  },
  {
   "cell_type": "markdown",
   "id": "3ccccd69",
   "metadata": {},
   "source": [
    "- explorera jämförande tal\n",
    "- kategorier, subkategorier\n",
    "- länder - profit\n",
    "- tid på året\n",
    "- graf på åren\n",
    "- gruppera efter gender\n",
    "- gruppera efter ålder\n",
    "- produktkategori per år"
   ]
  },
  {
   "cell_type": "markdown",
   "id": "137a5452",
   "metadata": {},
   "source": [
    "### Länder och profit\n"
   ]
  },
  {
   "cell_type": "code",
   "execution_count": null,
   "id": "28f574d0",
   "metadata": {},
   "outputs": [],
   "source": [
    "df[[\"Country\", \"Profit\"]].groupby([\"Country\"]).mean(numeric_only=True).sort_values(\n",
    "    by=\"Profit\", ascending=False\n",
    ").reset_index()\n"
   ]
  },
  {
   "cell_type": "code",
   "execution_count": null,
   "id": "d9ceac19",
   "metadata": {},
   "outputs": [],
   "source": [
    "df[[\"Country\", \"Profit\"]].groupby([\"Country\"]).sum(numeric_only=True).sort_values(\n",
    "    by=\"Profit\", ascending=False\n",
    ").reset_index()"
   ]
  },
  {
   "cell_type": "code",
   "execution_count": 75,
   "id": "8cd4c719",
   "metadata": {},
   "outputs": [
    {
     "data": {
      "text/html": [
       "<div>\n",
       "<style scoped>\n",
       "    .dataframe tbody tr th:only-of-type {\n",
       "        vertical-align: middle;\n",
       "    }\n",
       "\n",
       "    .dataframe tbody tr th {\n",
       "        vertical-align: top;\n",
       "    }\n",
       "\n",
       "    .dataframe thead th {\n",
       "        text-align: right;\n",
       "    }\n",
       "</style>\n",
       "<table border=\"1\" class=\"dataframe\">\n",
       "  <thead>\n",
       "    <tr style=\"text-align: right;\">\n",
       "      <th></th>\n",
       "      <th>Country</th>\n",
       "      <th>Total_profit</th>\n",
       "      <th>Avg_profit</th>\n",
       "      <th>Median_profit</th>\n",
       "    </tr>\n",
       "  </thead>\n",
       "  <tbody>\n",
       "    <tr>\n",
       "      <th>0</th>\n",
       "      <td>United States</td>\n",
       "      <td>11073644.0</td>\n",
       "      <td>282.447687</td>\n",
       "      <td>87.0</td>\n",
       "    </tr>\n",
       "    <tr>\n",
       "      <th>1</th>\n",
       "      <td>Australia</td>\n",
       "      <td>6776030.0</td>\n",
       "      <td>283.089489</td>\n",
       "      <td>114.0</td>\n",
       "    </tr>\n",
       "    <tr>\n",
       "      <th>2</th>\n",
       "      <td>United Kingdom</td>\n",
       "      <td>4413853.0</td>\n",
       "      <td>324.071439</td>\n",
       "      <td>134.0</td>\n",
       "    </tr>\n",
       "    <tr>\n",
       "      <th>3</th>\n",
       "      <td>Canada</td>\n",
       "      <td>3717296.0</td>\n",
       "      <td>262.187615</td>\n",
       "      <td>83.0</td>\n",
       "    </tr>\n",
       "    <tr>\n",
       "      <th>4</th>\n",
       "      <td>Germany</td>\n",
       "      <td>3359995.0</td>\n",
       "      <td>302.756803</td>\n",
       "      <td>134.0</td>\n",
       "    </tr>\n",
       "    <tr>\n",
       "      <th>5</th>\n",
       "      <td>France</td>\n",
       "      <td>2880282.0</td>\n",
       "      <td>261.891435</td>\n",
       "      <td>99.0</td>\n",
       "    </tr>\n",
       "  </tbody>\n",
       "</table>\n",
       "</div>"
      ],
      "text/plain": [
       "          Country  Total_profit  Avg_profit  Median_profit\n",
       "0   United States    11073644.0  282.447687           87.0\n",
       "1       Australia     6776030.0  283.089489          114.0\n",
       "2  United Kingdom     4413853.0  324.071439          134.0\n",
       "3          Canada     3717296.0  262.187615           83.0\n",
       "4         Germany     3359995.0  302.756803          134.0\n",
       "5          France     2880282.0  261.891435           99.0"
      ]
     },
     "execution_count": 75,
     "metadata": {},
     "output_type": "execute_result"
    }
   ],
   "source": [
    "import duckdb\n",
    "\n",
    "df_profit = duckdb.query(\n",
    "    \"\"\"\n",
    "    SELECT \n",
    "        country,\n",
    "        SUM(profit) AS Total_profit,\n",
    "        MEAN(profit) AS Avg_profit,\n",
    "        MEDIAN(profit) AS Median_profit,\n",
    "    FROM df\n",
    "    GROUP BY\n",
    "        country\n",
    "    ORDER BY\n",
    "        total_profit DESC,\n",
    "        avg_profit DESC\n",
    "\"\"\"\n",
    ").df()\n",
    "\n",
    "df_profit"
   ]
  },
  {
   "cell_type": "code",
   "execution_count": null,
   "id": "6e2dbd8d",
   "metadata": {},
   "outputs": [],
   "source": [
    "import matplotlib.pyplot as plt \n",
    "\n",
    "fig, ax = plt.subplots(1, figsize = (12,6), dpi = 150)\n",
    "\n",
    "ax.bar(x=df_profit[\"Country\"], height=df_profit[\"Total_profit\"])\n",
    "ax.set(xlabel = \"Country\", ylabel=\"Total profit\", title = \"Total profit per country\")\n",
    "fig.savefig(\"profit_per_country.png\")"
   ]
  }
 ],
 "metadata": {
  "kernelspec": {
   "display_name": "ai_engineering_stefan_lundberg (3.13.2)",
   "language": "python",
   "name": "python3"
  },
  "language_info": {
   "codemirror_mode": {
    "name": "ipython",
    "version": 3
   },
   "file_extension": ".py",
   "mimetype": "text/x-python",
   "name": "python",
   "nbconvert_exporter": "python",
   "pygments_lexer": "ipython3",
   "version": "3.13.2"
  }
 },
 "nbformat": 4,
 "nbformat_minor": 5
}
