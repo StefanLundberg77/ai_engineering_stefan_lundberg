{
 "cells": [],
 "metadata": {
  "kernelspec": {
   "display_name": "ai_engineering_stefan_lundberg (3.13.2)",
   "language": "python",
   "name": "python3"
  },
  "language_info": {
   "name": "python",
   "version": "3.13.2"
  }
 },
 "nbformat": 4,
 "nbformat_minor": 5
}
