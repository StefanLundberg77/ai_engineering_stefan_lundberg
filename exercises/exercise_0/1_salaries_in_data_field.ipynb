{
 "cells": [
  {
   "cell_type": "markdown",
   "id": "97c2a581",
   "metadata": {},
   "source": [
    "# 1. Salaries in data field"
   ]
  },
  {
   "cell_type": "code",
   "execution_count": 1,
   "id": "3453b34f",
   "metadata": {},
   "outputs": [
    {
     "data": {
      "text/html": [
       "<div>\n",
       "<style scoped>\n",
       "    .dataframe tbody tr th:only-of-type {\n",
       "        vertical-align: middle;\n",
       "    }\n",
       "\n",
       "    .dataframe tbody tr th {\n",
       "        vertical-align: top;\n",
       "    }\n",
       "\n",
       "    .dataframe thead th {\n",
       "        text-align: right;\n",
       "    }\n",
       "</style>\n",
       "<table border=\"1\" class=\"dataframe\">\n",
       "  <thead>\n",
       "    <tr style=\"text-align: right;\">\n",
       "      <th></th>\n",
       "      <th>work_year</th>\n",
       "      <th>experience_level</th>\n",
       "      <th>employment_type</th>\n",
       "      <th>job_title</th>\n",
       "      <th>salary</th>\n",
       "      <th>salary_currency</th>\n",
       "      <th>salary_in_usd</th>\n",
       "      <th>employee_residence</th>\n",
       "      <th>remote_ratio</th>\n",
       "      <th>company_location</th>\n",
       "      <th>company_size</th>\n",
       "    </tr>\n",
       "  </thead>\n",
       "  <tbody>\n",
       "    <tr>\n",
       "      <th>0</th>\n",
       "      <td>2025</td>\n",
       "      <td>EX</td>\n",
       "      <td>FT</td>\n",
       "      <td>Head of Data</td>\n",
       "      <td>348516</td>\n",
       "      <td>USD</td>\n",
       "      <td>348516</td>\n",
       "      <td>US</td>\n",
       "      <td>0</td>\n",
       "      <td>US</td>\n",
       "      <td>M</td>\n",
       "    </tr>\n",
       "    <tr>\n",
       "      <th>1</th>\n",
       "      <td>2025</td>\n",
       "      <td>EX</td>\n",
       "      <td>FT</td>\n",
       "      <td>Head of Data</td>\n",
       "      <td>232344</td>\n",
       "      <td>USD</td>\n",
       "      <td>232344</td>\n",
       "      <td>US</td>\n",
       "      <td>0</td>\n",
       "      <td>US</td>\n",
       "      <td>M</td>\n",
       "    </tr>\n",
       "    <tr>\n",
       "      <th>2</th>\n",
       "      <td>2025</td>\n",
       "      <td>SE</td>\n",
       "      <td>FT</td>\n",
       "      <td>Data Scientist</td>\n",
       "      <td>145400</td>\n",
       "      <td>USD</td>\n",
       "      <td>145400</td>\n",
       "      <td>US</td>\n",
       "      <td>0</td>\n",
       "      <td>US</td>\n",
       "      <td>M</td>\n",
       "    </tr>\n",
       "    <tr>\n",
       "      <th>3</th>\n",
       "      <td>2025</td>\n",
       "      <td>SE</td>\n",
       "      <td>FT</td>\n",
       "      <td>Data Scientist</td>\n",
       "      <td>81600</td>\n",
       "      <td>USD</td>\n",
       "      <td>81600</td>\n",
       "      <td>US</td>\n",
       "      <td>0</td>\n",
       "      <td>US</td>\n",
       "      <td>M</td>\n",
       "    </tr>\n",
       "    <tr>\n",
       "      <th>4</th>\n",
       "      <td>2025</td>\n",
       "      <td>MI</td>\n",
       "      <td>FT</td>\n",
       "      <td>Engineer</td>\n",
       "      <td>160000</td>\n",
       "      <td>USD</td>\n",
       "      <td>160000</td>\n",
       "      <td>US</td>\n",
       "      <td>100</td>\n",
       "      <td>US</td>\n",
       "      <td>M</td>\n",
       "    </tr>\n",
       "  </tbody>\n",
       "</table>\n",
       "</div>"
      ],
      "text/plain": [
       "   work_year experience_level employment_type       job_title  salary  \\\n",
       "0       2025               EX              FT    Head of Data  348516   \n",
       "1       2025               EX              FT    Head of Data  232344   \n",
       "2       2025               SE              FT  Data Scientist  145400   \n",
       "3       2025               SE              FT  Data Scientist   81600   \n",
       "4       2025               MI              FT        Engineer  160000   \n",
       "\n",
       "  salary_currency  salary_in_usd employee_residence  remote_ratio  \\\n",
       "0             USD         348516                 US             0   \n",
       "1             USD         232344                 US             0   \n",
       "2             USD         145400                 US             0   \n",
       "3             USD          81600                 US             0   \n",
       "4             USD         160000                 US           100   \n",
       "\n",
       "  company_location company_size  \n",
       "0               US            M  \n",
       "1               US            M  \n",
       "2               US            M  \n",
       "3               US            M  \n",
       "4               US            M  "
      ]
     },
     "execution_count": 1,
     "metadata": {},
     "output_type": "execute_result"
    }
   ],
   "source": [
    "import pandas as pd\n",
    "\n",
    "df = pd.read_csv(\"../../data/salaries.csv\")\n",
    "\n",
    "df.head()"
   ]
  },
  {
   "cell_type": "markdown",
   "id": "15ed6a98",
   "metadata": {},
   "source": [
    "### a) Start with some simple EDA, check summary statistics, info, columns etc"
   ]
  },
  {
   "cell_type": "code",
   "execution_count": 2,
   "id": "197e63c6",
   "metadata": {},
   "outputs": [
    {
     "data": {
      "text/plain": [
       "Index(['work_year', 'experience_level', 'employment_type', 'job_title',\n",
       "       'salary', 'salary_currency', 'salary_in_usd', 'employee_residence',\n",
       "       'remote_ratio', 'company_location', 'company_size'],\n",
       "      dtype='object')"
      ]
     },
     "execution_count": 2,
     "metadata": {},
     "output_type": "execute_result"
    }
   ],
   "source": [
    "df.columns"
   ]
  },
  {
   "cell_type": "code",
   "execution_count": 3,
   "id": "102063d1",
   "metadata": {},
   "outputs": [
    {
     "name": "stdout",
     "output_type": "stream",
     "text": [
      "<class 'pandas.core.frame.DataFrame'>\n",
      "RangeIndex: 151445 entries, 0 to 151444\n",
      "Data columns (total 11 columns):\n",
      " #   Column              Non-Null Count   Dtype \n",
      "---  ------              --------------   ----- \n",
      " 0   work_year           151445 non-null  int64 \n",
      " 1   experience_level    151445 non-null  object\n",
      " 2   employment_type     151445 non-null  object\n",
      " 3   job_title           151445 non-null  object\n",
      " 4   salary              151445 non-null  int64 \n",
      " 5   salary_currency     151445 non-null  object\n",
      " 6   salary_in_usd       151445 non-null  int64 \n",
      " 7   employee_residence  151445 non-null  object\n",
      " 8   remote_ratio        151445 non-null  int64 \n",
      " 9   company_location    151445 non-null  object\n",
      " 10  company_size        151445 non-null  object\n",
      "dtypes: int64(4), object(7)\n",
      "memory usage: 12.7+ MB\n"
     ]
    }
   ],
   "source": [
    "df.info()"
   ]
  },
  {
   "cell_type": "code",
   "execution_count": 4,
   "id": "3d3978de",
   "metadata": {},
   "outputs": [
    {
     "data": {
      "text/plain": [
       "(151445, 11)"
      ]
     },
     "execution_count": 4,
     "metadata": {},
     "output_type": "execute_result"
    }
   ],
   "source": [
    "df.shape"
   ]
  },
  {
   "cell_type": "markdown",
   "id": "1a8952d1",
   "metadata": {},
   "source": [
    "###   b) Plot the distribution of the salaries in USD.\n",
    "\n"
   ]
  },
  {
   "cell_type": "code",
   "execution_count": 5,
   "id": "90979707",
   "metadata": {},
   "outputs": [
    {
     "data": {
      "image/png": "[encoded data removed]",
      "text/plain": [
       "<Figure size 800x500 with 1 Axes>"
      ]
     },
     "metadata": {},
     "output_type": "display_data"
    }
   ],
   "source": [
    "import pandas as pd\n",
    "import matplotlib.pyplot as plt\n",
    "import seaborn as sns\n",
    "import duckdb as db\n",
    "\n",
    "# histogram of salaries in USD since 2020\n",
    "plt.figure(figsize=(8, 5))\n",
    "sns.histplot(df[\"salary_in_usd\"], bins=20, kde=True, color=\"purple\")\n",
    "plt.title(\"Distribution of Salaries in USD\")\n",
    "plt.xlabel(\"Salary in USD\")\n",
    "plt.ylabel(\"Frequency\")\n",
    "plt.show() "
   ]
  },
  {
   "cell_type": "markdown",
   "id": "cf6b12f4",
   "metadata": {},
   "source": [
    "###  c) How many job postings are there for each job title? Take the tenth most common job title and plot a bar chart of the number of job postings for that title."
   ]
  },
  {
   "cell_type": "code",
   "execution_count": 6,
   "id": "14126638",
   "metadata": {},
   "outputs": [
    {
     "data": {
      "text/html": [
       "<div>\n",
       "<style scoped>\n",
       "    .dataframe tbody tr th:only-of-type {\n",
       "        vertical-align: middle;\n",
       "    }\n",
       "\n",
       "    .dataframe tbody tr th {\n",
       "        vertical-align: top;\n",
       "    }\n",
       "\n",
       "    .dataframe thead th {\n",
       "        text-align: right;\n",
       "    }\n",
       "</style>\n",
       "<table border=\"1\" class=\"dataframe\">\n",
       "  <thead>\n",
       "    <tr style=\"text-align: right;\">\n",
       "      <th></th>\n",
       "      <th>job_title</th>\n",
       "      <th>job_postings</th>\n",
       "    </tr>\n",
       "  </thead>\n",
       "  <tbody>\n",
       "    <tr>\n",
       "      <th>0</th>\n",
       "      <td>Data Scientist</td>\n",
       "      <td>18751</td>\n",
       "    </tr>\n",
       "    <tr>\n",
       "      <th>1</th>\n",
       "      <td>Software Engineer</td>\n",
       "      <td>16948</td>\n",
       "    </tr>\n",
       "    <tr>\n",
       "      <th>2</th>\n",
       "      <td>Data Engineer</td>\n",
       "      <td>16352</td>\n",
       "    </tr>\n",
       "    <tr>\n",
       "      <th>3</th>\n",
       "      <td>Data Analyst</td>\n",
       "      <td>13779</td>\n",
       "    </tr>\n",
       "    <tr>\n",
       "      <th>4</th>\n",
       "      <td>Engineer</td>\n",
       "      <td>11004</td>\n",
       "    </tr>\n",
       "    <tr>\n",
       "      <th>5</th>\n",
       "      <td>Machine Learning Engineer</td>\n",
       "      <td>8887</td>\n",
       "    </tr>\n",
       "    <tr>\n",
       "      <th>6</th>\n",
       "      <td>Manager</td>\n",
       "      <td>7811</td>\n",
       "    </tr>\n",
       "    <tr>\n",
       "      <th>7</th>\n",
       "      <td>Analyst</td>\n",
       "      <td>5396</td>\n",
       "    </tr>\n",
       "    <tr>\n",
       "      <th>8</th>\n",
       "      <td>Research Scientist</td>\n",
       "      <td>3460</td>\n",
       "    </tr>\n",
       "    <tr>\n",
       "      <th>9</th>\n",
       "      <td>Product Manager</td>\n",
       "      <td>2576</td>\n",
       "    </tr>\n",
       "  </tbody>\n",
       "</table>\n",
       "</div>"
      ],
      "text/plain": [
       "                   job_title  job_postings\n",
       "0             Data Scientist         18751\n",
       "1          Software Engineer         16948\n",
       "2              Data Engineer         16352\n",
       "3               Data Analyst         13779\n",
       "4                   Engineer         11004\n",
       "5  Machine Learning Engineer          8887\n",
       "6                    Manager          7811\n",
       "7                    Analyst          5396\n",
       "8         Research Scientist          3460\n",
       "9            Product Manager          2576"
      ]
     },
     "execution_count": 6,
     "metadata": {},
     "output_type": "execute_result"
    }
   ],
   "source": [
    "df_job_per_title = db.query(\"\"\"\n",
    "    SELECT job_title, COUNT(*) as job_postings\n",
    "    FROM df\n",
    "    GROUP BY job_title\n",
    "    ORDER BY job_postings DESC\n",
    "    LIMIT 10\n",
    "\"\"\").df()\n",
    "\n",
    "df_job_per_title"
   ]
  },
  {
   "cell_type": "code",
   "execution_count": 7,
   "id": "956907a8",
   "metadata": {},
   "outputs": [
    {
     "name": "stderr",
     "output_type": "stream",
     "text": [
      "C:\\Users\\metal\\AppData\\Local\\Temp\\ipykernel_17760\\102863134.py:2: FutureWarning: \n",
      "\n",
      "Passing `palette` without assigning `hue` is deprecated and will be removed in v0.14.0. Assign the `x` variable to `hue` and set `legend=False` for the same effect.\n",
      "\n",
      "  sns.barplot(data=df_job_per_title,\n"
     ]
    },
    {
     "data": {
      "image/png": "[encoded data removed]",
      "text/plain": [
       "<Figure size 1000x600 with 1 Axes>"
      ]
     },
     "metadata": {},
     "output_type": "display_data"
    }
   ],
   "source": [
    "fig, ax = plt.subplots(figsize=(10, 6))\n",
    "sns.barplot(data=df_job_per_title, \n",
    "            x=\"job_title\", y=\"job_postings\",\n",
    "            palette=\"viridis\", hue=None, ax=ax\n",
    ")\n",
    "ax.set_title(\"Top 10 Job Titles by Number of Postings\")\n",
    "ax.set_xlabel(\"Job Title\")\n",
    "ax.set_ylabel(\"Number of Postings\")\n",
    "plt.xticks(rotation=45, ha='right')\n",
    "plt.tight_layout()\n",
    "plt.show()"
   ]
  },
  {
   "cell_type": "markdown",
   "id": "0add95c6",
   "metadata": {},
   "source": [
    "### d) Create a dataframe that contains the following columns: job_title, experience_level, median_salary_usd, mean_salary_usd, mean_salary_sek. Sort the dataframe by mean_salary_sek."
   ]
  },
  {
   "cell_type": "code",
   "execution_count": 22,
   "id": "adcdcc67",
   "metadata": {},
   "outputs": [
    {
     "data": {
      "text/html": [
       "<div>\n",
       "<style scoped>\n",
       "    .dataframe tbody tr th:only-of-type {\n",
       "        vertical-align: middle;\n",
       "    }\n",
       "\n",
       "    .dataframe tbody tr th {\n",
       "        vertical-align: top;\n",
       "    }\n",
       "\n",
       "    .dataframe thead th {\n",
       "        text-align: right;\n",
       "    }\n",
       "</style>\n",
       "<table border=\"1\" class=\"dataframe\">\n",
       "  <thead>\n",
       "    <tr style=\"text-align: right;\">\n",
       "      <th></th>\n",
       "      <th>job_title</th>\n",
       "      <th>experience_level</th>\n",
       "      <th>median_salary_usd</th>\n",
       "      <th>mean_salary_usd</th>\n",
       "      <th>mean_salary_sek</th>\n",
       "    </tr>\n",
       "  </thead>\n",
       "  <tbody>\n",
       "    <tr>\n",
       "      <th>0</th>\n",
       "      <td>AI Architect</td>\n",
       "      <td>MI</td>\n",
       "      <td>800000.0</td>\n",
       "      <td>800000.0</td>\n",
       "      <td>84210.526316</td>\n",
       "    </tr>\n",
       "    <tr>\n",
       "      <th>1</th>\n",
       "      <td>Research Team Lead</td>\n",
       "      <td>SE</td>\n",
       "      <td>450000.0</td>\n",
       "      <td>450000.0</td>\n",
       "      <td>47368.421053</td>\n",
       "    </tr>\n",
       "    <tr>\n",
       "      <th>2</th>\n",
       "      <td>Principal Data Scientist</td>\n",
       "      <td>EX</td>\n",
       "      <td>416000.0</td>\n",
       "      <td>416000.0</td>\n",
       "      <td>43789.473684</td>\n",
       "    </tr>\n",
       "    <tr>\n",
       "      <th>3</th>\n",
       "      <td>Analytics Engineering Manager</td>\n",
       "      <td>SE</td>\n",
       "      <td>399880.0</td>\n",
       "      <td>399880.0</td>\n",
       "      <td>42092.631579</td>\n",
       "    </tr>\n",
       "    <tr>\n",
       "      <th>4</th>\n",
       "      <td>Data Science Tech Lead</td>\n",
       "      <td>SE</td>\n",
       "      <td>375000.0</td>\n",
       "      <td>375000.0</td>\n",
       "      <td>39473.684211</td>\n",
       "    </tr>\n",
       "  </tbody>\n",
       "</table>\n",
       "</div>"
      ],
      "text/plain": [
       "                       job_title experience_level  median_salary_usd  \\\n",
       "0                   AI Architect               MI           800000.0   \n",
       "1             Research Team Lead               SE           450000.0   \n",
       "2       Principal Data Scientist               EX           416000.0   \n",
       "3  Analytics Engineering Manager               SE           399880.0   \n",
       "4         Data Science Tech Lead               SE           375000.0   \n",
       "\n",
       "   mean_salary_usd  mean_salary_sek  \n",
       "0         800000.0     84210.526316  \n",
       "1         450000.0     47368.421053  \n",
       "2         416000.0     43789.473684  \n",
       "3         399880.0     42092.631579  \n",
       "4         375000.0     39473.684211  "
      ]
     },
     "execution_count": 22,
     "metadata": {},
     "output_type": "execute_result"
    }
   ],
   "source": [
    "df_salary_sek = db.query(\"\"\"\n",
    "    SELECT \n",
    "        job_title, \n",
    "        experience_level,\n",
    "        MEDIAN(salary_in_usd) AS median_salary_usd,\n",
    "        AVG(salary_in_usd) AS mean_salary_usd,\n",
    "        AVG(salary_in_usd/9.5) AS mean_salary_sek -- Approx conversion rate usd to sek\n",
    "    FROM df\n",
    "    GROUP BY job_title, experience_level\n",
    "    ORDER BY mean_salary_sek DESC\n",
    "\"\"\").df()   \n",
    "\n",
    "df_salary_sek.head()"
   ]
  }
 ],
 "metadata": {
  "kernelspec": {
   "display_name": "ai_engineering_stefan_lundberg (3.13.2)",
   "language": "python",
   "name": "python3"
  },
  "language_info": {
   "codemirror_mode": {
    "name": "ipython",
    "version": 3
   },
   "file_extension": ".py",
   "mimetype": "text/x-python",
   "name": "python",
   "nbconvert_exporter": "python",
   "pygments_lexer": "ipython3",
   "version": "3.13.2"
  }
 },
 "nbformat": 4,
 "nbformat_minor": 5
}
